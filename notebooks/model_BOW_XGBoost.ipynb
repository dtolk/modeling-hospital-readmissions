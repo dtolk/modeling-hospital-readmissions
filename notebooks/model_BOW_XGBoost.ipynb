{
  "nbformat": 4,
  "nbformat_minor": 0,
  "metadata": {
    "colab": {
      "name": "model-BOW-XGBoost.ipynb",
      "provenance": [],
      "collapsed_sections": []
    },
    "kernelspec": {
      "display_name": "Python 3",
      "name": "python3"
    },
    "language_info": {
      "name": "python"
    }
  },
  "cells": [
    {
      "cell_type": "markdown",
      "metadata": {
        "id": "477cDmVs09iN"
      },
      "source": [
        "# Modeling 30 day readmission\n",
        "# A baseline model (BOW+XGBoost)"
      ]
    },
    {
      "cell_type": "code",
      "metadata": {
        "id": "H8gK3fHS_k87"
      },
      "source": [
        "!pip install bayesian-optimization"
      ],
      "execution_count": null,
      "outputs": []
    },
    {
      "cell_type": "code",
      "metadata": {
        "id": "C-LPSpfTUjxM"
      },
      "source": [
        "import pandas as pd\n",
        "import numpy as np\n",
        "import os\n",
        "import matplotlib.pyplot as plt\n",
        "\n",
        "import warnings\n",
        "warnings.filterwarnings('ignore')\n",
        "get_ipython().magic(u'matplotlib inline')\n",
        "plt.style.use('ggplot')"
      ],
      "execution_count": null,
      "outputs": []
    },
    {
      "cell_type": "markdown",
      "metadata": {
        "id": "WPso3-Vb1XyR"
      },
      "source": [
        "## Loading preprocessed MIMIC-III data"
      ]
    },
    {
      "cell_type": "code",
      "metadata": {
        "id": "vZS32M4kN9uL"
      },
      "source": [
        "data_dir = \"/content/drive/MyDrive/Notebooks_MIMIC/data\""
      ],
      "execution_count": null,
      "outputs": []
    },
    {
      "cell_type": "code",
      "metadata": {
        "id": "xZ7d2i74cVV6"
      },
      "source": [
        "# load preprocessed notes\n",
        "df_notes = pd.read_csv(os.path.join(data_dir,\"preproc\",\"admiss_notes.csv\"))"
      ],
      "execution_count": null,
      "outputs": []
    },
    {
      "cell_type": "code",
      "metadata": {
        "colab": {
          "base_uri": "https://localhost:8080/",
          "height": 206
        },
        "id": "QGDmf-osx1pP",
        "outputId": "5a4efbcb-586c-4316-99f5-b03431a92f5f"
      },
      "source": [
        "df_notes.head()"
      ],
      "execution_count": null,
      "outputs": [
        {
          "output_type": "execute_result",
          "data": {
            "text/html": [
              "<div>\n",
              "<style scoped>\n",
              "    .dataframe tbody tr th:only-of-type {\n",
              "        vertical-align: middle;\n",
              "    }\n",
              "\n",
              "    .dataframe tbody tr th {\n",
              "        vertical-align: top;\n",
              "    }\n",
              "\n",
              "    .dataframe thead th {\n",
              "        text-align: right;\n",
              "    }\n",
              "</style>\n",
              "<table border=\"1\" class=\"dataframe\">\n",
              "  <thead>\n",
              "    <tr style=\"text-align: right;\">\n",
              "      <th></th>\n",
              "      <th>TEXT</th>\n",
              "      <th>OUTPUT_LABEL</th>\n",
              "    </tr>\n",
              "  </thead>\n",
              "  <tbody>\n",
              "    <tr>\n",
              "      <th>0</th>\n",
              "      <td>Admission Date:  [**2101-10-20**]     Discharg...</td>\n",
              "      <td>0</td>\n",
              "    </tr>\n",
              "    <tr>\n",
              "      <th>1</th>\n",
              "      <td>Admission Date:  [**2191-3-16**]     Discharge...</td>\n",
              "      <td>0</td>\n",
              "    </tr>\n",
              "    <tr>\n",
              "      <th>2</th>\n",
              "      <td>Admission Date: [**2175-5-30**]        Dischar...</td>\n",
              "      <td>0</td>\n",
              "    </tr>\n",
              "    <tr>\n",
              "      <th>3</th>\n",
              "      <td>Admission Date:  [**2178-4-16**]              ...</td>\n",
              "      <td>0</td>\n",
              "    </tr>\n",
              "    <tr>\n",
              "      <th>4</th>\n",
              "      <td>Name:  [**Known lastname 9900**], [**Known fir...</td>\n",
              "      <td>0</td>\n",
              "    </tr>\n",
              "  </tbody>\n",
              "</table>\n",
              "</div>"
            ],
            "text/plain": [
              "                                                TEXT  OUTPUT_LABEL\n",
              "0  Admission Date:  [**2101-10-20**]     Discharg...             0\n",
              "1  Admission Date:  [**2191-3-16**]     Discharge...             0\n",
              "2  Admission Date: [**2175-5-30**]        Dischar...             0\n",
              "3  Admission Date:  [**2178-4-16**]              ...             0\n",
              "4  Name:  [**Known lastname 9900**], [**Known fir...             0"
            ]
          },
          "metadata": {},
          "execution_count": 8
        }
      ]
    },
    {
      "cell_type": "code",
      "metadata": {
        "id": "uwnpNP-FfMFV"
      },
      "source": [
        ""
      ],
      "execution_count": null,
      "outputs": []
    },
    {
      "cell_type": "markdown",
      "metadata": {
        "id": "IiepiMw3dHKP"
      },
      "source": [
        "## Data splitting"
      ]
    },
    {
      "cell_type": "code",
      "metadata": {
        "id": "tfpo_N6aSWJR"
      },
      "source": [
        "# Balancing the dataset by subsampling\n",
        "\n",
        "rows_pos = df_notes.OUTPUT_LABEL == 1\n",
        "df_notes_pos = df_notes.loc[rows_pos]\n",
        "df_notes_neg = df_notes.loc[~rows_pos]\n",
        "# merge the balanced data\n",
        "df_notes_bal = pd.concat([df_notes_pos, df_notes_neg.sample(n = len(df_notes_pos), random_state = 77)],axis = 0)\n",
        "# shuffle the order of training samples \n",
        "df_notes_bal = df_notes_bal.sample(n = len(df_notes_bal), random_state = 77).reset_index(drop = True)\n",
        "df_notes = df_notes_bal"
      ],
      "execution_count": null,
      "outputs": []
    },
    {
      "cell_type": "code",
      "metadata": {
        "id": "BQmG0YFmbop0"
      },
      "source": [
        "from sklearn.model_selection import train_test_split\n",
        "# split into train and test\n",
        "df_train, df_test = train_test_split(df_notes, random_state=77, test_size=0.30, shuffle=True)\n",
        "# split test into test and validation datasets\n",
        "df_test, df_valid = train_test_split(df_test, random_state=77, test_size=0.50, shuffle=True)"
      ],
      "execution_count": null,
      "outputs": []
    },
    {
      "cell_type": "code",
      "metadata": {
        "colab": {
          "base_uri": "https://localhost:8080/",
          "height": 282
        },
        "id": "S2tJoOZObokU",
        "outputId": "4103fabf-7f81-4387-cf71-006e0c76399a"
      },
      "source": [
        "# Prevalence\n",
        "df_train.OUTPUT_LABEL.hist()"
      ],
      "execution_count": null,
      "outputs": [
        {
          "output_type": "execute_result",
          "data": {
            "text/plain": [
              "<matplotlib.axes._subplots.AxesSubplot at 0x7f45d6f954d0>"
            ]
          },
          "metadata": {},
          "execution_count": 11
        },
        {
          "output_type": "display_data",
          "data": {
            "image/png": "[encoded data removed]",
            "text/plain": [
              "<Figure size 432x288 with 1 Axes>"
            ]
          },
          "metadata": {}
        }
      ]
    },
    {
      "cell_type": "markdown",
      "metadata": {
        "id": "6gvpaDsueP4u"
      },
      "source": [
        "## Feature engineering (tokenization and vectorization)"
      ]
    },
    {
      "cell_type": "code",
      "metadata": {
        "colab": {
          "base_uri": "https://localhost:8080/",
          "height": 283
        },
        "id": "tV1YNEpJbofj",
        "outputId": "a57d4d40-1205-4b93-c312-5d718665d6f1"
      },
      "source": [
        "# Text length distibution\n",
        "df_notes[\"TEXT\"].apply(len).hist(bins=40)"
      ],
      "execution_count": null,
      "outputs": [
        {
          "output_type": "execute_result",
          "data": {
            "text/plain": [
              "<matplotlib.axes._subplots.AxesSubplot at 0x7f45d6e87c90>"
            ]
          },
          "metadata": {},
          "execution_count": 12
        },
        {
          "output_type": "display_data",
          "data": {
            "image/png": "[encoded data removed]",
            "text/plain": [
              "<Figure size 432x288 with 1 Axes>"
            ]
          },
          "metadata": {}
        }
      ]
    },
    {
      "cell_type": "markdown",
      "metadata": {
        "id": "hPkV6bXkpIx2"
      },
      "source": [
        "## Build a tokenizer"
      ]
    },
    {
      "cell_type": "code",
      "metadata": {
        "id": "DxdMwkzppDpM"
      },
      "source": [
        "import nltk\n",
        "nltk.download(\"stopwords\", quiet=True)\n",
        "from nltk.corpus import stopwords\n",
        "nltk.download('punkt', quiet=True)\n",
        "from nltk import word_tokenize\n",
        "from nltk.stem import PorterStemmer"
      ],
      "execution_count": null,
      "outputs": []
    },
    {
      "cell_type": "code",
      "metadata": {
        "colab": {
          "base_uri": "https://localhost:8080/"
        },
        "id": "WHD7SzDvGdvO",
        "outputId": "37c17e9b-74b7-4938-801d-9ff469e3c33e"
      },
      "source": [
        "# English stop words\n",
        "stops = list(stopwords.words('english'))\n",
        "# adding new stops based on the analysis of the signif.features\n",
        "stops = stops+['l','c','b','p','na']\n",
        "print(stops)"
      ],
      "execution_count": null,
      "outputs": [
        {
          "output_type": "stream",
          "name": "stdout",
          "text": [
            "['i', 'me', 'my', 'myself', 'we', 'our', 'ours', 'ourselves', 'you', \"you're\", \"you've\", \"you'll\", \"you'd\", 'your', 'yours', 'yourself', 'yourselves', 'he', 'him', 'his', 'himself', 'she', \"she's\", 'her', 'hers', 'herself', 'it', \"it's\", 'its', 'itself', 'they', 'them', 'their', 'theirs', 'themselves', 'what', 'which', 'who', 'whom', 'this', 'that', \"that'll\", 'these', 'those', 'am', 'is', 'are', 'was', 'were', 'be', 'been', 'being', 'have', 'has', 'had', 'having', 'do', 'does', 'did', 'doing', 'a', 'an', 'the', 'and', 'but', 'if', 'or', 'because', 'as', 'until', 'while', 'of', 'at', 'by', 'for', 'with', 'about', 'against', 'between', 'into', 'through', 'during', 'before', 'after', 'above', 'below', 'to', 'from', 'up', 'down', 'in', 'out', 'on', 'off', 'over', 'under', 'again', 'further', 'then', 'once', 'here', 'there', 'when', 'where', 'why', 'how', 'all', 'any', 'both', 'each', 'few', 'more', 'most', 'other', 'some', 'such', 'no', 'nor', 'not', 'only', 'own', 'same', 'so', 'than', 'too', 'very', 's', 't', 'can', 'will', 'just', 'don', \"don't\", 'should', \"should've\", 'now', 'd', 'll', 'm', 'o', 're', 've', 'y', 'ain', 'aren', \"aren't\", 'couldn', \"couldn't\", 'didn', \"didn't\", 'doesn', \"doesn't\", 'hadn', \"hadn't\", 'hasn', \"hasn't\", 'haven', \"haven't\", 'isn', \"isn't\", 'ma', 'mightn', \"mightn't\", 'mustn', \"mustn't\", 'needn', \"needn't\", 'shan', \"shan't\", 'shouldn', \"shouldn't\", 'wasn', \"wasn't\", 'weren', \"weren't\", 'won', \"won't\", 'wouldn', \"wouldn't\", 'l', 'c', 'b', 'p', 'na']\n"
          ]
        }
      ]
    },
    {
      "cell_type": "code",
      "metadata": {
        "colab": {
          "base_uri": "https://localhost:8080/"
        },
        "id": "iYi8AxNwpDhe",
        "outputId": "2133d7db-4ced-474e-8b91-a35db9728bb3"
      },
      "source": [
        "word_tokenize(\"Testing the tokenizer. Special characters are here + - *\")"
      ],
      "execution_count": null,
      "outputs": [
        {
          "output_type": "execute_result",
          "data": {
            "text/plain": [
              "['Testing',\n",
              " 'the',\n",
              " 'tokenizer',\n",
              " '.',\n",
              " 'Special',\n",
              " 'characters',\n",
              " 'are',\n",
              " 'here',\n",
              " '+',\n",
              " '-',\n",
              " '*']"
            ]
          },
          "metadata": {},
          "execution_count": 17
        }
      ]
    },
    {
      "cell_type": "code",
      "metadata": {
        "colab": {
          "base_uri": "https://localhost:8080/"
        },
        "id": "fkVMNcaipDc2",
        "outputId": "5b715d7b-8798-4fe6-fe38-9342a886ad1e"
      },
      "source": [
        "import string\n",
        "print(string.punctuation)"
      ],
      "execution_count": null,
      "outputs": [
        {
          "output_type": "stream",
          "name": "stdout",
          "text": [
            "!\"#$%&'()*+,-./:;<=>?@[\\]^_`{|}~\n"
          ]
        }
      ]
    },
    {
      "cell_type": "code",
      "metadata": {
        "id": "dYT7uDEJpZ9w"
      },
      "source": [
        "stemmer = PorterStemmer()\n",
        "def tokenizer(text):\n",
        "    \"\"\"\n",
        "    On top of word_tokenizer, this tokenizer:\n",
        "    replacing punctuation and numbers with spaces and lowercase all words\n",
        "    \"\"\"\n",
        "    punc_list = string.punctuation+'0123456789'\n",
        "    t = str.maketrans(dict.fromkeys(punc_list, \" \"))\n",
        "    text = text.lower().translate(t)\n",
        "\n",
        "    tokens = word_tokenize(text)\n",
        "    tokens = [stemmer.stem(w) for w in tokens] # stem\n",
        "    return tokens"
      ],
      "execution_count": null,
      "outputs": []
    },
    {
      "cell_type": "code",
      "metadata": {
        "colab": {
          "base_uri": "https://localhost:8080/"
        },
        "id": "nn4S2veJpZ8F",
        "outputId": "6169bd45-45a5-4c24-b9ca-5283410f3962"
      },
      "source": [
        "tokenizer('Special characters removed + - ; *')"
      ],
      "execution_count": null,
      "outputs": [
        {
          "output_type": "execute_result",
          "data": {
            "text/plain": [
              "['special', 'charact', 'remov']"
            ]
          },
          "metadata": {},
          "execution_count": 20
        }
      ]
    },
    {
      "cell_type": "markdown",
      "metadata": {
        "id": "Htss_vkIqEpW"
      },
      "source": [
        "## Build a vectorizer"
      ]
    },
    {
      "cell_type": "code",
      "metadata": {
        "colab": {
          "base_uri": "https://localhost:8080/"
        },
        "id": "2ssTuTx1pZxa",
        "outputId": "5ab9b817-2125-462a-dcf1-72b03a896388"
      },
      "source": [
        "from sklearn.feature_extraction.text import CountVectorizer\n",
        "vect = CountVectorizer(max_features = 3000, \n",
        "                       tokenizer = tokenizer, \n",
        "                       stop_words = stops)\n",
        "# this could take a while\n",
        "vect.fit(df_train.TEXT.values)"
      ],
      "execution_count": null,
      "outputs": [
        {
          "output_type": "execute_result",
          "data": {
            "text/plain": [
              "CountVectorizer(analyzer='word', binary=False, decode_error='strict',\n",
              "                dtype=<class 'numpy.int64'>, encoding='utf-8', input='content',\n",
              "                lowercase=True, max_df=1.0, max_features=3000, min_df=1,\n",
              "                ngram_range=(1, 1), preprocessor=None,\n",
              "                stop_words=['i', 'me', 'my', 'myself', 'we', 'our', 'ours',\n",
              "                            'ourselves', 'you', \"you're\", \"you've\", \"you'll\",\n",
              "                            \"you'd\", 'your', 'yours', 'yourself', 'yourselves',\n",
              "                            'he', 'him', 'his', 'himself', 'she', \"she's\",\n",
              "                            'her', 'hers', 'herself', 'it', \"it's\", 'its',\n",
              "                            'itself', ...],\n",
              "                strip_accents=None, token_pattern='(?u)\\\\b\\\\w\\\\w+\\\\b',\n",
              "                tokenizer=<function tokenizer at 0x7f45d0b11830>,\n",
              "                vocabulary=None)"
            ]
          },
          "metadata": {},
          "execution_count": 21
        }
      ]
    },
    {
      "cell_type": "code",
      "metadata": {
        "id": "vIfLVHBTpZtc"
      },
      "source": [
        "X_test_tf = vect.transform(df_test.TEXT.values)"
      ],
      "execution_count": null,
      "outputs": []
    },
    {
      "cell_type": "code",
      "metadata": {
        "id": "8QRvBbfdtCf8"
      },
      "source": [
        "y_test = df_test.OUTPUT_LABEL"
      ],
      "execution_count": null,
      "outputs": []
    },
    {
      "cell_type": "code",
      "metadata": {
        "id": "70M1krVQpZmo"
      },
      "source": [
        "# Transform notes into the vector format\n",
        "X_train_tf = vect.transform(df_train.TEXT.values)\n",
        "X_valid_tf = vect.transform(df_valid.TEXT.values)\n",
        "X_test_tf = vect.transform(df_test.TEXT.values)\n",
        "\n",
        "# Labels\n",
        "y_train = df_train.OUTPUT_LABEL\n",
        "y_valid = df_valid.OUTPUT_LABEL\n",
        "y_test = df_test.OUTPUT_LABEL"
      ],
      "execution_count": null,
      "outputs": []
    },
    {
      "cell_type": "code",
      "metadata": {
        "id": "Xl-AV2oLpZdE",
        "colab": {
          "base_uri": "https://localhost:8080/"
        },
        "outputId": "9bb72679-a877-41cf-b3a9-c01dbda9ec13"
      },
      "source": [
        "print(f\"X_train_tf:{X_train_tf.shape} y_train:{len(y_train)}\")\n",
        "print(f\"X_valid_tf:{X_valid_tf.shape} y_valid:{len(y_valid)}\")"
      ],
      "execution_count": null,
      "outputs": [
        {
          "output_type": "stream",
          "name": "stdout",
          "text": [
            "X_train_tf:(3568, 3000) y_train:3568\n",
            "X_valid_tf:(765, 3000) y_valid:765\n"
          ]
        }
      ]
    },
    {
      "cell_type": "code",
      "metadata": {
        "id": "L_FP9bjS77eW"
      },
      "source": [
        "# # Saving preproc arrays\n",
        "# np.save(os.path.join(data_dir,\"preproc\",\"X_train_tf.npy\"), X_train_tf)\n",
        "# np.save(os.path.join(data_dir,\"preproc\",\"X_valid_tf.npy\"), X_valid_tf)\n",
        "# np.save(os.path.join(data_dir,\"preproc\",\"X_test_tf.npy\"), X_test_tf)\n",
        "# np.save(os.path.join(data_dir,\"preproc\",\"y_train.npy\"), y_train)\n",
        "# np.save(os.path.join(data_dir,\"preproc\",\"y_valid.npy\"), y_valid)\n",
        "# np.save(os.path.join(data_dir,\"preproc\",\"y_test.npy\"), y_test)"
      ],
      "execution_count": null,
      "outputs": []
    },
    {
      "cell_type": "code",
      "metadata": {
        "id": "RmSNzQSM-Ltd"
      },
      "source": [
        "# # Load preproc arrays\n",
        "# X_train_tf = np.load(os.path.join(data_dir,\"preproc\",\"X_train_tf.npy\"), allow_pickle=True)\n",
        "# X_valid_tf = np.load(os.path.join(data_dir,\"preproc\",\"X_valid_tf.npy\"), allow_pickle=True)\n",
        "# X_test_tf = np.load(os.path.join(data_dir,\"preproc\",\"X_test_tf.npy\"), allow_pickle=True)\n",
        "# y_train = np.load(os.path.join(data_dir,\"preproc\",\"y_train.npy\"), allow_pickle=True)\n",
        "# y_valid = np.load(os.path.join(data_dir,\"preproc\",\"y_valid.npy\"), allow_pickle=True)\n",
        "# y_test = np.load(os.path.join(data_dir,\"preproc\",\"y_test.npy\"), allow_pickle=True)"
      ],
      "execution_count": null,
      "outputs": []
    },
    {
      "cell_type": "code",
      "metadata": {
        "id": "yvRo5DntvrAN"
      },
      "source": [
        ""
      ],
      "execution_count": null,
      "outputs": []
    },
    {
      "cell_type": "markdown",
      "metadata": {
        "id": "N8xRQD4zGgGz"
      },
      "source": [
        "## Selecting a model with the Bayesian hyperparameter optimization\n",
        "\n",
        "https://www.kaggle.com/prashant111/a-guide-on-xgboost-hyperparameters-tuning"
      ]
    },
    {
      "cell_type": "code",
      "metadata": {
        "id": "zI1TUmJnE8u_"
      },
      "source": [
        "!pip install hyperopt"
      ],
      "execution_count": null,
      "outputs": []
    },
    {
      "cell_type": "code",
      "metadata": {
        "id": "Nxx79naTGmtV"
      },
      "source": [
        "# import machine learning libraries\n",
        "from xgboost import XGBClassifier\n",
        "from sklearn.metrics import accuracy_score\n",
        "from sklearn.metrics import roc_curve\n",
        "from sklearn.metrics import roc_auc_score\n",
        "\n",
        "# import packages for hyperparameters tuning\n",
        "from hyperopt import STATUS_OK, Trials, fmin, hp, tpe"
      ],
      "execution_count": null,
      "outputs": []
    },
    {
      "cell_type": "markdown",
      "metadata": {
        "id": "d0Tvn85oIxzR"
      },
      "source": [
        "Parameters common for most tree-based learners:\n",
        "- __max_depth__: The maximum depth per tree. A deeper tree might increase the performance, but also the complexity and chances to overfit.\n",
        "The value must be an integer greater than 0. Default is 6.\n",
        "- __learning_rate__: The learning rate determines the step size at each iteration while your model optimizes toward its objective. A low learning rate makes computation slower, and requires more rounds to achieve the same reduction in residual error as a model with a high learning rate. But it optimizes the chances to reach the best optimum.\n",
        "The value must be between 0 and 1. Default is 0.3.\n",
        "- __n_estimators__: The number of trees in our ensemble. Equivalent to the number of boosting rounds.\n",
        "The value must be an integer greater than 0. Default is 100.\n",
        "NB: In the standard library, this is referred as num_boost_round.\n",
        "- __colsample_bytree__: Represents the fraction of columns to be randomly sampled for each tree. It might improve overfitting.\n",
        "The value must be between 0 and 1. Default is 1.\n",
        "-__subsample__: Represents the fraction of observations to be sampled for each tree. A lower values prevent overfitting but might lead to under-fitting.\n",
        "The value must be between 0 and 1. Default is 1."
      ]
    },
    {
      "cell_type": "markdown",
      "metadata": {
        "id": "odhh1O4tJQnU"
      },
      "source": [
        "Regularization parameters:\n",
        "\n",
        "- __alpha__ (reg_alpha): L1 regularization on the weights (Lasso Regression). When working with a large number of features, it might improve speed performances. It can be any integer. Default is 0.\n",
        "- __lambda__ (reg_lambda): L2 regularization on the weights (Ridge Regression). It might help to reduce overfitting. It can be any integer. Default is 1.\n",
        "- __gamma__: Gamma is a pseudo-regularisation parameter (Lagrangian multiplier), and depends on the other parameters. The higher Gamma is, the higher the regularization. It can be any integer. Default is 0."
      ]
    },
    {
      "cell_type": "code",
      "metadata": {
        "id": "mi2vlkIoHGgE"
      },
      "source": [
        "# Initialize domain space for range of values\n",
        "space={\n",
        "        'max_depth': hp.quniform(\"max_depth\", 3, 10, 1),\n",
        "        'learning_rate': hp.uniform('learning_rate', 0.01, 0.4),\n",
        "        'n_estimators': hp.quniform('n_estimators', 50, 1000, 50),\n",
        "        'colsample_bytree' : hp.uniform('colsample_bytree', 0.3, 1),\n",
        "        'subsample' : hp.uniform('subsample', 0.3,1),\n",
        "        'min_child_weight' : hp.quniform('min_child_weight', 1, 10, 1),\n",
        "        'gamma': hp.uniform ('gamma', 0.0,0.5),\n",
        "        'seed': 0\n",
        "    }\n"
      ],
      "execution_count": null,
      "outputs": []
    },
    {
      "cell_type": "code",
      "metadata": {
        "id": "gnoujSizHGdf"
      },
      "source": [
        "# Define objective function\n",
        "def objective(space):\n",
        "    clf=XGBClassifier(\n",
        "                    objective='binary:logistic',\n",
        "                    nthread=1,\n",
        "                    seed=42,\n",
        "                    max_depth = int(space['max_depth']), \n",
        "                    learning_rate = space['learning_rate'],\n",
        "                    n_estimators = int(space['n_estimators']),\n",
        "                    colsample_bytree=int(space['colsample_bytree']),\n",
        "                    subsample = space['subsample'],\n",
        "                    min_child_weight=int(space['min_child_weight']),\n",
        "                    gamma = space['gamma'],\n",
        "                    verbosity=1\n",
        "                    )\n",
        "\n",
        "    #evaluation = [( X_train_tf, y_train), ( X_valid_tf, y_valid)]\n",
        "    # clf.fit(X_train_tf, y_train,\n",
        "    #         eval_set=evaluation, \n",
        "    #         eval_metric=\"auc\",\n",
        "    #         early_stopping_rounds=10,\n",
        "    #         verbose=False)\n",
        "    \n",
        "    clf.fit(X_train_tf, y_train)\n",
        "\n",
        "    pred_val = clf.predict_proba(X_valid_tf)[:,1]\n",
        "    pred_train = clf.predict_proba(X_train_tf)[:,1]\n",
        "\n",
        "    accuracy = accuracy_score(y_valid, pred_val>0.5)\n",
        "    auc_val = roc_auc_score(y_valid, pred_val)\n",
        "    auc_train = roc_auc_score(y_train, pred_train)\n",
        "\n",
        "    print (f\"SCORE:{accuracy}  AUC_val:{auc_val}  AUC_train:{auc_train}\")\n",
        "    return {'loss': -auc_val, 'status': STATUS_OK, 'model': clf }"
      ],
      "execution_count": null,
      "outputs": []
    },
    {
      "cell_type": "code",
      "metadata": {
        "colab": {
          "base_uri": "https://localhost:8080/"
        },
        "id": "9jv_bwkkHGa3",
        "outputId": "b04519f1-346e-4cdf-fccd-237cf78bea04"
      },
      "source": [
        "# Optimization algorithm\n",
        "trials = Trials()\n",
        "\n",
        "best_hyperparams = fmin(fn = objective,\n",
        "                        space = space,\n",
        "                        algo = tpe.suggest,\n",
        "                        max_evals = 100,\n",
        "                        trials = trials)"
      ],
      "execution_count": null,
      "outputs": [
        {
          "output_type": "stream",
          "name": "stdout",
          "text": [
            "SCORE:0.6248366013071895  AUC_val:0.6310114555993002  AUC_train:0.6771595599105744\n",
            "SCORE:0.6235294117647059  AUC_val:0.6573333606736658  AUC_train:0.7046616926443857\n",
            "SCORE:0.6418300653594772  AUC_val:0.6741784230096237  AUC_train:0.7781072321278477\n",
            "SCORE:0.5947712418300654  AUC_val:0.6307790627734032  AUC_train:0.7301988823375076\n",
            "SCORE:0.6169934640522876  AUC_val:0.6584816546369204  AUC_train:0.7357983494289928\n",
            "SCORE:0.6274509803921569  AUC_val:0.685630604768154  AUC_train:0.8658087028108097\n",
            "SCORE:0.5986928104575163  AUC_val:0.6364931922572179  AUC_train:0.7870078412334822\n",
            "SCORE:0.6248366013071895  AUC_val:0.6940719324146982  AUC_train:0.8053713470550992\n",
            "SCORE:0.6183006535947713  AUC_val:0.6606688812335957  AUC_train:0.7021332051336435\n",
            "SCORE:0.6209150326797386  AUC_val:0.6590216262029746  AUC_train:0.7342646663744468\n",
            "SCORE:0.5895424836601307  AUC_val:0.6245933125546808  AUC_train:0.7694821895124484\n",
            "SCORE:0.592156862745098  AUC_val:0.6317598972003499  AUC_train:0.6934014865508156\n",
            "SCORE:0.6339869281045751  AUC_val:0.6457205544619423  AUC_train:0.6778641868824695\n",
            "SCORE:0.6287581699346405  AUC_val:0.6559800142169728  AUC_train:0.7193169910150242\n",
            "SCORE:0.6248366013071895  AUC_val:0.6722782699037622  AUC_train:0.7489870496318187\n",
            "SCORE:0.6274509803921569  AUC_val:0.6769978947944008  AUC_train:0.7971810207900306\n",
            "SCORE:0.6339869281045751  AUC_val:0.674516759623797  AUC_train:0.7959764778706283\n",
            "SCORE:0.5986928104575163  AUC_val:0.650395751312336  AUC_train:0.7000827956330409\n",
            "SCORE:0.6013071895424836  AUC_val:0.6381199420384952  AUC_train:0.788615521903137\n",
            "SCORE:0.5529411764705883  AUC_val:0.5765392607174104  AUC_train:0.6262710386531491\n",
            "SCORE:0.6339869281045751  AUC_val:0.6897453248031495  AUC_train:0.8430564000081695\n",
            "SCORE:0.6431372549019608  AUC_val:0.6864303094925635  AUC_train:0.8232377648635443\n",
            "SCORE:0.6339869281045751  AUC_val:0.6939010553368329  AUC_train:0.7892580914271171\n",
            "SCORE:0.6366013071895424  AUC_val:0.6906612259405075  AUC_train:0.76979231964456\n",
            "SCORE:0.6274509803921569  AUC_val:0.6952270614610674  AUC_train:0.7657326627986809\n",
            "SCORE:0.6405228758169934  AUC_val:0.6960541065179352  AUC_train:0.7886307613270553\n",
            "SCORE:0.6379084967320261  AUC_val:0.6834502132545932  AUC_train:0.7399249340541423\n",
            "SCORE:0.6274509803921569  AUC_val:0.6839355041557306  AUC_train:0.7636469041188862\n",
            "SCORE:0.6261437908496732  AUC_val:0.6533074967191601  AUC_train:0.67778861819273\n",
            "SCORE:0.6392156862745098  AUC_val:0.6938053641732282  AUC_train:0.783503402162113\n",
            "SCORE:0.6326797385620915  AUC_val:0.6701286362642169  AUC_train:0.7100622616876169\n",
            "SCORE:0.6444444444444445  AUC_val:0.6845574967191601  AUC_train:0.7832506162540238\n",
            "SCORE:0.6222222222222222  AUC_val:0.670497730752406  AUC_train:0.7538702637991412\n",
            "SCORE:0.6444444444444445  AUC_val:0.6833271817585302  AUC_train:0.7566593925911264\n",
            "SCORE:0.6274509803921569  AUC_val:0.6751729276027997  AUC_train:0.7223073744672093\n",
            "SCORE:0.6235294117647059  AUC_val:0.6736623742344707  AUC_train:0.8501875077571809\n",
            "SCORE:0.6300653594771242  AUC_val:0.6733753007436571  AUC_train:0.7600712953667437\n",
            "SCORE:0.5529411764705883  AUC_val:0.58154937664042  AUC_train:0.6223579630703197\n",
            "SCORE:0.6222222222222222  AUC_val:0.6711983267716535  AUC_train:0.761938360457937\n",
            "SCORE:0.6261437908496732  AUC_val:0.6899025317147858  AUC_train:0.7901895815756935\n",
            "SCORE:0.6261437908496732  AUC_val:0.6614036526684165  AUC_train:0.7969838509238705\n",
            "SCORE:0.6339869281045751  AUC_val:0.6900802438757656  AUC_train:0.7655915802968389\n",
            "SCORE:0.6235294117647059  AUC_val:0.6879682031933507  AUC_train:0.7822107219559251\n",
            "SCORE:0.6287581699346405  AUC_val:0.6424260444007  AUC_train:0.6677246283230193\n",
            "SCORE:0.6313725490196078  AUC_val:0.6734846620734909  AUC_train:0.775905213925377\n",
            "SCORE:0.6366013071895424  AUC_val:0.6825684875328084  AUC_train:0.8097370492390501\n",
            "SCORE:0.6287581699346405  AUC_val:0.6932312171916011  AUC_train:0.8250418298620439\n",
            "SCORE:0.6457516339869281  AUC_val:0.6938053641732282  AUC_train:0.8398594202420397\n",
            "SCORE:0.6065359477124183  AUC_val:0.6416673501749781  AUC_train:0.7039591080695106\n",
            "SCORE:0.6261437908496732  AUC_val:0.6719501859142607  AUC_train:0.7455361842053584\n",
            "SCORE:0.6274509803921569  AUC_val:0.6712085793963254  AUC_train:0.7512860031390072\n",
            "SCORE:0.6366013071895424  AUC_val:0.6750020505249343  AUC_train:0.7466791409992348\n",
            "SCORE:0.5908496732026144  AUC_val:0.6325288440507436  AUC_train:0.8205111648418635\n",
            "SCORE:0.6352941176470588  AUC_val:0.6819533300524934  AUC_train:0.8200946729572496\n",
            "SCORE:0.6196078431372549  AUC_val:0.6657951935695539  AUC_train:0.8011866326686117\n",
            "SCORE:0.6366013071895424  AUC_val:0.6829854276027996  AUC_train:0.8266858023556692\n",
            "SCORE:0.6209150326797386  AUC_val:0.6517627679352581  AUC_train:0.7629945939321956\n",
            "SCORE:0.6418300653594772  AUC_val:0.6819533300524936  AUC_train:0.8381434925303257\n",
            "SCORE:0.6248366013071895  AUC_val:0.6693665244969378  AUC_train:0.7499042430012554\n",
            "SCORE:0.6274509803921569  AUC_val:0.6621008311461066  AUC_train:0.7208624571293011\n",
            "SCORE:0.6352941176470588  AUC_val:0.6637720089676291  AUC_train:0.7006763476285414\n",
            "SCORE:0.6366013071895424  AUC_val:0.6663659230096238  AUC_train:0.6975697046536802\n",
            "SCORE:0.6196078431372549  AUC_val:0.6691375492125984  AUC_train:0.7367590615657016\n",
            "SCORE:0.6261437908496732  AUC_val:0.6812971620734909  AUC_train:0.7470736378390183\n",
            "SCORE:0.6235294117647059  AUC_val:0.644004948600175  AUC_train:0.66441940151483\n",
            "SCORE:0.6366013071895424  AUC_val:0.6930056594488188  AUC_train:0.8005087139654395\n",
            "SCORE:0.6248366013071895  AUC_val:0.6864713199912511  AUC_train:0.7616015220571023\n",
            "SCORE:0.6274509803921569  AUC_val:0.6937028379265091  AUC_train:0.7637410114892687\n",
            "SCORE:0.6431372549019608  AUC_val:0.6956918471128609  AUC_train:0.7819269858776102\n",
            "SCORE:0.6405228758169934  AUC_val:0.6952475667104112  AUC_train:0.7773868944096451\n",
            "SCORE:0.6379084967320261  AUC_val:0.6764169127296589  AUC_train:0.747580466514901\n",
            "SCORE:0.6392156862745098  AUC_val:0.6919120461504812  AUC_train:0.8084926010240265\n",
            "SCORE:0.6300653594771242  AUC_val:0.6890754866579177  AUC_train:0.8074643326781952\n",
            "SCORE:0.6287581699346405  AUC_val:0.6721723261154856  AUC_train:0.7323314590412988\n",
            "SCORE:0.6457516339869281  AUC_val:0.6845643318022747  AUC_train:0.7958415225598462\n",
            "SCORE:0.6418300653594772  AUC_val:0.6841268864829396  AUC_train:0.7941040711256907\n",
            "SCORE:0.6444444444444445  AUC_val:0.6827940452755905  AUC_train:0.7947392565989062\n",
            "SCORE:0.6379084967320261  AUC_val:0.6887747430008748  AUC_train:0.7623506104410478\n",
            "SCORE:0.6392156862745098  AUC_val:0.6939830763342083  AUC_train:0.7959645377034346\n",
            "SCORE:0.6326797385620915  AUC_val:0.6931697014435696  AUC_train:0.7693327803150634\n",
            "SCORE:0.6222222222222222  AUC_val:0.6674697889326333  AUC_train:0.8011215901788983\n",
            "SCORE:0.6274509803921569  AUC_val:0.6674492836832895  AUC_train:0.8277137564865745\n",
            "SCORE:0.6366013071895424  AUC_val:0.693197041776028  AUC_train:0.8016944039892728\n",
            "SCORE:0.6431372549019608  AUC_val:0.6928006069553806  AUC_train:0.7958146571836602\n",
            "SCORE:0.6326797385620915  AUC_val:0.686737888232721  AUC_train:0.7865618131458099\n",
            "SCORE:0.6352941176470588  AUC_val:0.6640009842519685  AUC_train:0.7885226713924591\n",
            "SCORE:0.6366013071895424  AUC_val:0.6911670220909887  AUC_train:0.7791681788259988\n",
            "SCORE:0.6274509803921569  AUC_val:0.6577947287839019  AUC_train:0.6945868623597227\n",
            "SCORE:0.6313725490196078  AUC_val:0.6878109962817147  AUC_train:0.837180737996597\n",
            "SCORE:0.6483660130718955  AUC_val:0.6889934656605425  AUC_train:0.7793670768742528\n",
            "SCORE:0.5843137254901961  AUC_val:0.6077106572615922  AUC_train:0.6501999192467639\n",
            "SCORE:0.6130718954248366  AUC_val:0.6622614555993  AUC_train:0.722188601225124\n",
            "SCORE:0.6261437908496732  AUC_val:0.6609149442257218  AUC_train:0.6986092847368528\n",
            "SCORE:0.6366013071895424  AUC_val:0.6812014709098863  AUC_train:0.7344170606136302\n",
            "SCORE:0.6287581699346405  AUC_val:0.6667110947069117  AUC_train:0.8396347565698412\n",
            "SCORE:0.6352941176470588  AUC_val:0.6697458716097986  AUC_train:0.7213870389485111\n",
            "SCORE:0.6339869281045751  AUC_val:0.6886927220034995  AUC_train:0.7679070300876503\n",
            "SCORE:0.6483660130718955  AUC_val:0.6893147145669292  AUC_train:0.7983436160167916\n",
            "SCORE:0.6235294117647059  AUC_val:0.6768406878827647  AUC_train:0.7407701722054902\n",
            "SCORE:0.6300653594771242  AUC_val:0.6761230041557305  AUC_train:0.7675317003583622\n",
            "100%|██████████| 100/100 [09:56<00:00,  5.96s/it, best loss: -0.6960541065179352]\n"
          ]
        }
      ]
    },
    {
      "cell_type": "code",
      "metadata": {
        "id": "la6KjK_qqvad",
        "colab": {
          "base_uri": "https://localhost:8080/"
        },
        "outputId": "2a9132e0-4586-4579-93b5-98d4641302b4"
      },
      "source": [
        "best_hyperparams"
      ],
      "execution_count": null,
      "outputs": [
        {
          "output_type": "execute_result",
          "data": {
            "text/plain": [
              "{'colsample_bytree': 0.7353917032926678,\n",
              " 'gamma': 0.45341228298665115,\n",
              " 'learning_rate': 0.1724007662996691,\n",
              " 'max_depth': 3.0,\n",
              " 'min_child_weight': 9.0,\n",
              " 'n_estimators': 650.0,\n",
              " 'subsample': 0.8776420887553404}"
            ]
          },
          "metadata": {},
          "execution_count": 36
        }
      ]
    },
    {
      "cell_type": "code",
      "metadata": {
        "colab": {
          "base_uri": "https://localhost:8080/"
        },
        "id": "luIfZX-5lcGR",
        "outputId": "ef1ef408-203d-4ace-bfa2-5c1b672bb169"
      },
      "source": [
        "# Best loss and a model\n",
        "trials.results[np.argmin([r['loss'] for r in trials.results])]"
      ],
      "execution_count": null,
      "outputs": [
        {
          "output_type": "execute_result",
          "data": {
            "text/plain": [
              "{'loss': -0.6960541065179352,\n",
              " 'model': XGBClassifier(base_score=0.5, booster='gbtree', colsample_bylevel=1,\n",
              "               colsample_bynode=1, colsample_bytree=0, gamma=0.45341228298665115,\n",
              "               learning_rate=0.1724007662996691, max_delta_step=0, max_depth=3,\n",
              "               min_child_weight=9, missing=None, n_estimators=650, n_jobs=1,\n",
              "               nthread=1, objective='binary:logistic', random_state=0,\n",
              "               reg_alpha=0, reg_lambda=1, scale_pos_weight=1, seed=42,\n",
              "               silent=None, subsample=0.8776420887553404, verbosity=1),\n",
              " 'status': 'ok'}"
            ]
          },
          "metadata": {},
          "execution_count": 37
        }
      ]
    },
    {
      "cell_type": "code",
      "metadata": {
        "id": "-r2oIU1blUjD"
      },
      "source": [
        "model_best = trials.results[np.argmin([r['loss'] for r in trials.results])]['model']"
      ],
      "execution_count": null,
      "outputs": []
    },
    {
      "cell_type": "code",
      "metadata": {
        "id": "ctc2joRvlUg6"
      },
      "source": [
        "y_train_preds = model_best.predict_proba(X_train_tf)[:,1]"
      ],
      "execution_count": null,
      "outputs": []
    },
    {
      "cell_type": "code",
      "metadata": {
        "id": "8vOCmyW8qeAi"
      },
      "source": [
        "# calculate probability of readmission\n",
        "y_train_preds = model_best.predict_proba(X_train_tf)[:,1]\n",
        "y_valid_preds = model_best.predict_proba(X_valid_tf)[:,1]\n",
        "y_test_preds = model_best.predict_proba(X_test_tf)[:,1]"
      ],
      "execution_count": null,
      "outputs": []
    },
    {
      "cell_type": "markdown",
      "metadata": {
        "id": "dMurS4oZttth"
      },
      "source": [
        "## Calculate performance metrics"
      ]
    },
    {
      "cell_type": "code",
      "metadata": {
        "id": "T77YXCDM6ZtH"
      },
      "source": [
        "from sklearn.metrics import roc_curve\n",
        "from sklearn.metrics import roc_auc_score"
      ],
      "execution_count": null,
      "outputs": []
    },
    {
      "cell_type": "code",
      "metadata": {
        "id": "fgtVzE1PtMmW"
      },
      "source": [
        "def calc_accuracy(y_actual, y_pred, thresh=0.5):\n",
        "    # this function calculates the accuracy with probability threshold at thresh\n",
        "    return (sum((y_pred > thresh) & (y_actual == 1))+sum((y_pred < thresh) & (y_actual == 0))) /len(y_actual)\n",
        "\n",
        "def calc_recall(y_actual, y_pred, thresh=0.5):\n",
        "    # calculates the recall\n",
        "    return sum((y_pred > thresh) & (y_actual == 1)) /sum(y_actual)\n",
        "\n",
        "def calc_precision(y_actual, y_pred, thresh=0.5):\n",
        "    # calculates the precision\n",
        "    return sum((y_pred > thresh) & (y_actual == 1)) /sum(y_pred > thresh)\n",
        "\n",
        "def calc_specificity(y_actual, y_pred, thresh=0.5):\n",
        "    # calculates specificity\n",
        "    return sum((y_pred < thresh) & (y_actual == 0)) /sum(y_actual ==0)\n",
        "\n",
        "def calc_prevalence(y_actual):\n",
        "    # calculates prevalence\n",
        "    return sum((y_actual == 1)) /len(y_actual)"
      ],
      "execution_count": null,
      "outputs": []
    },
    {
      "cell_type": "code",
      "metadata": {
        "id": "m-0XAz4tsmbM"
      },
      "source": [
        "auc_train = roc_auc_score(y_train, y_train_preds)\n",
        "auc_valid = roc_auc_score(y_valid, y_valid_preds)\n",
        "auc_test = roc_auc_score(y_test, y_test_preds)\n",
        "\n",
        "AUC = [auc_train, auc_valid, auc_test]\n",
        "\n",
        "ACC = [calc_accuracy(y_train, y_train_preds),\n",
        "       calc_accuracy(y_valid, y_valid_preds),\n",
        "       calc_accuracy(y_test, y_test_preds)]\n",
        "\n",
        "REC = [calc_recall(y_train, y_train_preds),\n",
        "       calc_recall(y_valid, y_valid_preds),\n",
        "       calc_recall(y_test, y_test_preds)]\n",
        "\n",
        "PREC = [calc_precision(y_train, y_train_preds),\n",
        "        calc_precision(y_valid, y_valid_preds),\n",
        "        calc_precision(y_test, y_test_preds)]\n",
        "\n",
        "SPEC = [calc_specificity(y_train, y_train_preds),\n",
        "        calc_specificity(y_valid, y_valid_preds),\n",
        "        calc_specificity(y_test, y_test_preds)]\n",
        "\n",
        "PREV = [calc_prevalence(y_train),\n",
        "        calc_prevalence(y_valid),\n",
        "        calc_prevalence(y_test)]\n",
        "\n",
        "df_summary = pd.DataFrame(list(zip(AUC, ACC, REC, PREC, SPEC, PREV)),\n",
        "               columns =['AUC', 'ACC', 'REC', 'PREC', 'SPEC', 'PREVALENCE'], \n",
        "               index = ['train','valid','test'])"
      ],
      "execution_count": null,
      "outputs": []
    },
    {
      "cell_type": "code",
      "metadata": {
        "colab": {
          "base_uri": "https://localhost:8080/",
          "height": 462
        },
        "id": "0hMNLnPT1PbN",
        "outputId": "1d8c43cb-1d01-4818-f5ec-17fa7c7c9c11"
      },
      "source": [
        "fpr_train, tpr_train, thresholds_train = roc_curve(y_train, y_train_preds)\n",
        "fpr_valid, tpr_valid, thresholds_valid = roc_curve(y_valid, y_valid_preds)\n",
        "fpr_test, tpr_test, thresholds_test = roc_curve(y_test, y_test_preds)\n",
        "\n",
        "plt.rcParams[\"figure.figsize\"] = (10,7)\n",
        "plt.plot(fpr_train, tpr_train,'orange', label = f'Train AUC: {auc_train:.2f}')\n",
        "plt.plot(fpr_valid, tpr_valid,'b',label = f'Valid AUC: {auc_valid:.2f}')\n",
        "plt.plot(fpr_test, tpr_test,'g',label = f'Test AUC: {auc_test:.2f}')\n",
        "plt.plot([0,1],[0,1],'k')\n",
        "plt.xlabel('FPR')\n",
        "plt.ylabel('TPR')\n",
        "plt.legend()\n",
        "plt.title(\"XGBoost Base Model ROC\")\n",
        "plt.show()"
      ],
      "execution_count": null,
      "outputs": [
        {
          "output_type": "display_data",
          "data": {
            "image/png": "[encoded data removed]",
            "text/plain": [
              "<Figure size 720x504 with 1 Axes>"
            ]
          },
          "metadata": {}
        }
      ]
    },
    {
      "cell_type": "code",
      "metadata": {
        "colab": {
          "base_uri": "https://localhost:8080/",
          "height": 143
        },
        "id": "u4lpNCQ11PY0",
        "outputId": "a13dd68c-397f-49fa-a13c-d03601c14c42"
      },
      "source": [
        "pd.options.display.float_format = '{:,.2f}'.format\n",
        "df_summary"
      ],
      "execution_count": null,
      "outputs": [
        {
          "output_type": "execute_result",
          "data": {
            "text/html": [
              "<div>\n",
              "<style scoped>\n",
              "    .dataframe tbody tr th:only-of-type {\n",
              "        vertical-align: middle;\n",
              "    }\n",
              "\n",
              "    .dataframe tbody tr th {\n",
              "        vertical-align: top;\n",
              "    }\n",
              "\n",
              "    .dataframe thead th {\n",
              "        text-align: right;\n",
              "    }\n",
              "</style>\n",
              "<table border=\"1\" class=\"dataframe\">\n",
              "  <thead>\n",
              "    <tr style=\"text-align: right;\">\n",
              "      <th></th>\n",
              "      <th>AUC</th>\n",
              "      <th>ACC</th>\n",
              "      <th>REC</th>\n",
              "      <th>PREC</th>\n",
              "      <th>SPEC</th>\n",
              "      <th>PREVALENCE</th>\n",
              "    </tr>\n",
              "  </thead>\n",
              "  <tbody>\n",
              "    <tr>\n",
              "      <th>train</th>\n",
              "      <td>0.79</td>\n",
              "      <td>0.71</td>\n",
              "      <td>0.66</td>\n",
              "      <td>0.73</td>\n",
              "      <td>0.76</td>\n",
              "      <td>0.50</td>\n",
              "    </tr>\n",
              "    <tr>\n",
              "      <th>valid</th>\n",
              "      <td>0.70</td>\n",
              "      <td>0.64</td>\n",
              "      <td>0.61</td>\n",
              "      <td>0.65</td>\n",
              "      <td>0.67</td>\n",
              "      <td>0.50</td>\n",
              "    </tr>\n",
              "    <tr>\n",
              "      <th>test</th>\n",
              "      <td>0.68</td>\n",
              "      <td>0.63</td>\n",
              "      <td>0.59</td>\n",
              "      <td>0.66</td>\n",
              "      <td>0.67</td>\n",
              "      <td>0.52</td>\n",
              "    </tr>\n",
              "  </tbody>\n",
              "</table>\n",
              "</div>"
            ],
            "text/plain": [
              "       AUC  ACC  REC  PREC  SPEC  PREVALENCE\n",
              "train 0.79 0.71 0.66  0.73  0.76        0.50\n",
              "valid 0.70 0.64 0.61  0.65  0.67        0.50\n",
              "test  0.68 0.63 0.59  0.66  0.67        0.52"
            ]
          },
          "metadata": {},
          "execution_count": 48
        }
      ]
    },
    {
      "cell_type": "markdown",
      "metadata": {
        "id": "gQY2ZVtwRaGm"
      },
      "source": [
        "## Feature importance"
      ]
    },
    {
      "cell_type": "code",
      "metadata": {
        "colab": {
          "base_uri": "https://localhost:8080/"
        },
        "id": "VTSTzD7p-ADN",
        "outputId": "b892fc16-3f8c-4b7b-a0f5-93fb975e1a1c"
      },
      "source": [
        "model_best"
      ],
      "execution_count": null,
      "outputs": [
        {
          "output_type": "execute_result",
          "data": {
            "text/plain": [
              "XGBClassifier(base_score=0.5, booster='gbtree', colsample_bylevel=1,\n",
              "              colsample_bynode=1, colsample_bytree=0, gamma=0.45341228298665115,\n",
              "              learning_rate=0.1724007662996691, max_delta_step=0, max_depth=3,\n",
              "              min_child_weight=9, missing=None, n_estimators=650, n_jobs=1,\n",
              "              nthread=1, objective='binary:logistic', random_state=0,\n",
              "              reg_alpha=0, reg_lambda=1, scale_pos_weight=1, seed=42,\n",
              "              silent=None, subsample=0.8776420887553404, verbosity=1)"
            ]
          },
          "metadata": {},
          "execution_count": 49
        }
      ]
    },
    {
      "cell_type": "code",
      "metadata": {
        "colab": {
          "base_uri": "https://localhost:8080/"
        },
        "id": "DX_WsUQh-ABK",
        "outputId": "9bf89fd2-2387-4048-cfac-7aa121fac7ab"
      },
      "source": [
        "model_best.feature_importances_"
      ],
      "execution_count": null,
      "outputs": [
        {
          "output_type": "execute_result",
          "data": {
            "text/plain": [
              "array([0.        , 0.        , 0.00155139, ..., 0.        , 0.        ,\n",
              "       0.00125895], dtype=float32)"
            ]
          },
          "metadata": {},
          "execution_count": 50
        }
      ]
    },
    {
      "cell_type": "code",
      "metadata": {
        "id": "7urnmlSV9_7a"
      },
      "source": [
        "from xgboost import plot_importance"
      ],
      "execution_count": null,
      "outputs": []
    },
    {
      "cell_type": "code",
      "metadata": {
        "colab": {
          "base_uri": "https://localhost:8080/",
          "height": 479
        },
        "id": "LMm_WGEb_B5g",
        "outputId": "1807ef98-a49e-42ff-f88e-4c2026f81baf"
      },
      "source": [
        "plot_importance(model_best, max_num_features=30)"
      ],
      "execution_count": null,
      "outputs": [
        {
          "output_type": "execute_result",
          "data": {
            "text/plain": [
              "<matplotlib.axes._subplots.AxesSubplot at 0x7f45c5de1a50>"
            ]
          },
          "metadata": {},
          "execution_count": 52
        },
        {
          "output_type": "display_data",
          "data": {
            "image/png": "[encoded data removed]",
            "text/plain": [
              "<Figure size 720x504 with 1 Axes>"
            ]
          },
          "metadata": {}
        }
      ]
    },
    {
      "cell_type": "code",
      "metadata": {
        "id": "RVoKIGMn_B2-"
      },
      "source": [
        "# All features and their scores\n",
        "all_feat = model_best.get_booster().get_score(importance_type='weight')"
      ],
      "execution_count": null,
      "outputs": []
    },
    {
      "cell_type": "code",
      "metadata": {
        "id": "MpScbBTCDuu1"
      },
      "source": [
        "all_feat_srt = sorted(all_feat.items(), key=lambda x: x[1], reverse=True)"
      ],
      "execution_count": null,
      "outputs": []
    },
    {
      "cell_type": "code",
      "metadata": {
        "colab": {
          "base_uri": "https://localhost:8080/"
        },
        "id": "sZ1fRGziDgNG",
        "outputId": "fab37a3f-1a0c-4c85-9ddd-cf0861d00916"
      },
      "source": [
        "all_feat_srt[:20]"
      ],
      "execution_count": null,
      "outputs": [
        {
          "output_type": "execute_result",
          "data": {
            "text/plain": [
              "[('f2419', 12),\n",
              " ('f1857', 10),\n",
              " ('f347', 9),\n",
              " ('f100', 8),\n",
              " ('f2038', 7),\n",
              " ('f564', 6),\n",
              " ('f2529', 6),\n",
              " ('f2476', 6),\n",
              " ('f664', 6),\n",
              " ('f1251', 6),\n",
              " ('f1647', 6),\n",
              " ('f1645', 5),\n",
              " ('f1616', 5),\n",
              " ('f1675', 5),\n",
              " ('f1176', 5),\n",
              " ('f2021', 5),\n",
              " ('f560', 4),\n",
              " ('f2347', 4),\n",
              " ('f2189', 4),\n",
              " ('f579', 4)]"
            ]
          },
          "metadata": {},
          "execution_count": 55
        }
      ]
    },
    {
      "cell_type": "code",
      "metadata": {
        "id": "omxbWcy_CZNP"
      },
      "source": [
        "index_to_word = {v:k for k,v in vect.vocabulary_.items()}"
      ],
      "execution_count": null,
      "outputs": []
    },
    {
      "cell_type": "code",
      "metadata": {
        "colab": {
          "base_uri": "https://localhost:8080/"
        },
        "id": "fgtsqBbYCZLP",
        "outputId": "02006742-00f2-4e60-fd8b-d83f3147178d"
      },
      "source": [
        "for feat,score in all_feat_srt[:30]:\n",
        "    print(index_to_word[int(feat[1:])])"
      ],
      "execution_count": null,
      "outputs": [
        {
          "output_type": "stream",
          "name": "stdout",
          "text": [
            "sig\n",
            "one\n",
            "breath\n",
            "also\n",
            "po\n",
            "concern\n",
            "stent\n",
            "sourc\n",
            "day\n",
            "hospit\n",
            "mg\n",
            "metoprolol\n",
            "medic\n",
            "ml\n",
            "ha\n",
            "pleas\n",
            "compress\n",
            "scan\n",
            "rate\n",
            "consult\n",
            "ms\n",
            "ct\n",
            "wbc\n",
            "chronic\n",
            "spironolacton\n",
            "side\n",
            "ngt\n",
            "drug\n",
            "pulmonari\n",
            "allergi\n"
          ]
        }
      ]
    },
    {
      "cell_type": "code",
      "metadata": {
        "id": "LKMB_vtPCZD7"
      },
      "source": [
        ""
      ],
      "execution_count": null,
      "outputs": []
    },
    {
      "cell_type": "code",
      "metadata": {
        "id": "kZQnwroQCZBK"
      },
      "source": [
        ""
      ],
      "execution_count": null,
      "outputs": []
    },
    {
      "cell_type": "code",
      "metadata": {
        "id": "j5rCbRh2_Bxn"
      },
      "source": [
        ""
      ],
      "execution_count": null,
      "outputs": []
    }
  ]
}