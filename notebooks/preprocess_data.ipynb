{
  "nbformat": 4,
  "nbformat_minor": 0,
  "metadata": {
    "colab": {
      "name": "preprocess-data.ipynb",
      "provenance": [],
      "collapsed_sections": []
    },
    "kernelspec": {
      "name": "python3",
      "display_name": "Python 3"
    },
    "language_info": {
      "name": "python"
    }
  },
  "cells": [
    {
      "cell_type": "markdown",
      "metadata": {
        "id": "WdSUQITWMi5J"
      },
      "source": [
        "# MIMIC-III data preprocessing "
      ]
    },
    {
      "cell_type": "code",
      "metadata": {
        "id": "C-LPSpfTUjxM"
      },
      "source": [
        "import pandas as pd\n",
        "import numpy as np\n",
        "import os\n",
        "import matplotlib.pyplot as plt\n",
        "\n",
        "import warnings\n",
        "warnings.filterwarnings('ignore')\n",
        "get_ipython().magic(u'matplotlib inline')\n",
        "plt.style.use('ggplot')"
      ],
      "execution_count": null,
      "outputs": []
    },
    {
      "cell_type": "code",
      "metadata": {
        "id": "vZS32M4kN9uL"
      },
      "source": [
        "data_dir = \"/content/drive/MyDrive/Notebooks_MIMIC/data\""
      ],
      "execution_count": null,
      "outputs": []
    },
    {
      "cell_type": "markdown",
      "metadata": {
        "id": "suh-qo8MOR8r"
      },
      "source": [
        "## Preprocessing ADMISSIONS.csv"
      ]
    },
    {
      "cell_type": "code",
      "metadata": {
        "id": "PdyN1cYsUkhZ"
      },
      "source": [
        "# SUBJECT_ID: unique identifier for each subject\n",
        "# HADM_ID:    unique identifier for each hospitalization\n",
        "# ADMITTIME:  admission date with format YYYY-MM-DD hh:mm:ss\n",
        "# DISCHTIME:  discharge date with same format\n",
        "# DEATHTIME:  death time (if it exists) with same format\n",
        "# ADMISSION_TYPE: includes ELECTIVE, EMERGENCY, NEWBORN, URGENT\n",
        "#\n",
        "# see: https://mimic.mit.edu/docs/iii/tables/\n",
        "\n",
        "df_adm = pd.read_csv(os.path.join(data_dir,\"mimiciii_1.4\",\"ADMISSIONS.csv\"))"
      ],
      "execution_count": null,
      "outputs": []
    },
    {
      "cell_type": "code",
      "metadata": {
        "id": "2z8g06h6UkfH"
      },
      "source": [
        "# <Hidden for privacy reasons>\n",
        "#df_adm.head()"
      ],
      "execution_count": 1,
      "outputs": []
    },
    {
      "cell_type": "code",
      "metadata": {
        "id": "jrQLt0VLUkcv"
      },
      "source": [
        "# Convert to dates\n",
        "df_adm.ADMITTIME = pd.to_datetime(df_adm.ADMITTIME, format = '%Y-%m-%d %H:%M:%S', errors = 'coerce')\n",
        "df_adm.DISCHTIME = pd.to_datetime(df_adm.DISCHTIME, format = '%Y-%m-%d %H:%M:%S', errors = 'coerce')\n",
        "df_adm.DEATHTIME = pd.to_datetime(df_adm.DEATHTIME, format = '%Y-%m-%d %H:%M:%S', errors = 'coerce')"
      ],
      "execution_count": null,
      "outputs": []
    },
    {
      "cell_type": "code",
      "metadata": {
        "id": "MdeY-Cs4ReDp"
      },
      "source": [
        "# Remove NEWBORN admission type\n",
        "df_adm = df_adm.loc[df_adm.ADMISSION_TYPE != 'NEWBORN']\n",
        "# We are not modeling death events\n",
        "df_adm = df_adm.loc[df_adm.DEATHTIME.isnull()]"
      ],
      "execution_count": null,
      "outputs": []
    },
    {
      "cell_type": "code",
      "metadata": {
        "id": "l-6eXCmiUkal"
      },
      "source": [
        "# Sort by subject_ID and admission date\n",
        "df_adm = df_adm.sort_values(['SUBJECT_ID','ADMITTIME'])\n",
        "df_adm = df_adm.reset_index(drop = True)"
      ],
      "execution_count": null,
      "outputs": []
    },
    {
      "cell_type": "code",
      "metadata": {
        "id": "KwCVqGaYUkYV"
      },
      "source": [
        "# Get the next unplanned admission date, if it exists, for each SUBJECT_ID\n",
        "df_adm['NEXT_ADMITTIME'] = df_adm.groupby('SUBJECT_ID').ADMITTIME.shift(-1)\n",
        "df_adm['NEXT_ADMISSION_TYPE'] = df_adm.groupby('SUBJECT_ID').ADMISSION_TYPE.shift(-1)"
      ],
      "execution_count": null,
      "outputs": []
    },
    {
      "cell_type": "code",
      "metadata": {
        "id": "Km6_EemBUkV_"
      },
      "source": [
        "# <Hidden for privacy reasons>\n",
        "#df_adm.loc[df_adm[\"SUBJECT_ID\"]==124]"
      ],
      "execution_count": 2,
      "outputs": []
    },
    {
      "cell_type": "code",
      "metadata": {
        "id": "SO5yRYDpVfZA"
      },
      "source": [
        "# we want to predict UNPLANNED re-admissions, so we should filter out the ELECTIVE next admissions.\n",
        "\n",
        "# get rows where next admission is elective and replace with naT or nan\n",
        "rows = df_adm.NEXT_ADMISSION_TYPE == 'ELECTIVE'\n",
        "df_adm.loc[rows,'NEXT_ADMITTIME'] = pd.NaT\n",
        "df_adm.loc[rows,'NEXT_ADMISSION_TYPE'] = np.NaN"
      ],
      "execution_count": null,
      "outputs": []
    },
    {
      "cell_type": "code",
      "metadata": {
        "id": "QCzgX-ljVfWr"
      },
      "source": [
        "# <Hidden for privacy reasons>\n",
        "# df_adm.loc[df_adm[\"SUBJECT_ID\"]==124]"
      ],
      "execution_count": 3,
      "outputs": []
    },
    {
      "cell_type": "code",
      "metadata": {
        "id": "VvkG8ihSVfUj"
      },
      "source": [
        "df_adm = df_adm.sort_values(['SUBJECT_ID','ADMITTIME'])\n",
        "# Back fill\n",
        "df_adm[['NEXT_ADMITTIME','NEXT_ADMISSION_TYPE']] = df_adm.groupby(['SUBJECT_ID'])[['NEXT_ADMITTIME','NEXT_ADMISSION_TYPE']].fillna(method = 'bfill')"
      ],
      "execution_count": null,
      "outputs": []
    },
    {
      "cell_type": "code",
      "metadata": {
        "id": "XKCNUWxzVfSg"
      },
      "source": [
        "# it didn't backfill for this subject, since the last row is NaN's\n",
        "#df_adm.loc[df_adm[\"SUBJECT_ID\"]==124]"
      ],
      "execution_count": 4,
      "outputs": []
    },
    {
      "cell_type": "code",
      "metadata": {
        "id": "CFYW50xgVfP8"
      },
      "source": [
        "# days until the next admission\n",
        "df_adm['DAYS_NEXT_ADMIT']=  (df_adm.NEXT_ADMITTIME - df_adm.DISCHTIME).dt.total_seconds()/(24*60*60)"
      ],
      "execution_count": null,
      "outputs": []
    },
    {
      "cell_type": "code",
      "metadata": {
        "colab": {
          "base_uri": "https://localhost:8080/",
          "height": 480
        },
        "id": "HKqf-e4vVfNk",
        "outputId": "03d5cd8f-0861-4e45-eb78-0520dd7c30a0"
      },
      "source": [
        "plt.rcParams[\"figure.figsize\"] = (10,7)\n",
        "df_adm[['DAYS_NEXT_ADMIT']].hist(bins=30, grid=True)"
      ],
      "execution_count": null,
      "outputs": [
        {
          "output_type": "execute_result",
          "data": {
            "text/plain": [
              "array([[<matplotlib.axes._subplots.AxesSubplot object at 0x7f3ef10962d0>]],\n",
              "      dtype=object)"
            ]
          },
          "metadata": {},
          "execution_count": 24
        },
        {
          "output_type": "display_data",
          "data": {
            "image/png": "[encoded data removed]",
            "text/plain": [
              "<Figure size 720x504 with 1 Axes>"
            ]
          },
          "metadata": {}
        }
      ]
    },
    {
      "cell_type": "code",
      "metadata": {
        "id": "AzioMwToVfLP"
      },
      "source": [
        ""
      ],
      "execution_count": null,
      "outputs": []
    },
    {
      "cell_type": "markdown",
      "metadata": {
        "id": "0Tzi5K6JazWV"
      },
      "source": [
        "## Processing NOTEEVENTS.csv"
      ]
    },
    {
      "cell_type": "code",
      "metadata": {
        "colab": {
          "base_uri": "https://localhost:8080/"
        },
        "id": "ZtIK9U26VfI5",
        "outputId": "9a10fbb9-a6a4-46b5-9d54-e2831f0a2d56"
      },
      "source": [
        "# SUBJECT_ID: unique identifier for each subject\n",
        "# HADM_ID:    unique identifier for each hospitalization\n",
        "# CATEGORY:   includes ‘Discharge summary’, \n",
        "#                     ‘Echo’, \n",
        "#                     ‘ECG’, \n",
        "#                     ‘Nursing’, \n",
        "#                     ‘Physician ‘, \n",
        "#                     ‘Rehab Services’, \n",
        "#                     ‘Case Management ‘, \n",
        "#                     ‘Respiratory ‘, \n",
        "#                     ‘Nutrition’, \n",
        "#                     ‘General’, \n",
        "#                     ‘Social Work’, \n",
        "#                     ‘Pharmacy’, \n",
        "#                     ‘Consult’, \n",
        "#                     ‘Radiology’,\n",
        "#                     ‘Nursing/other’\n",
        "# TEXT:       clinical notes\n",
        "\n",
        "# See: https://mimic.mit.edu/docs/iii/tables/\n",
        "\n",
        "# There are multiple notes per hospitalization. \n",
        "# In the notes, the dates and PHI (name, doctor, location) have been converted for confidentiality. \n",
        "# There are also special characters such as \\n (new line), numbers and punctuation.\n",
        "\n",
        "df_notes = pd.read_csv(os.path.join(data_dir,\"mimiciii_1.4\",\"NOTEEVENTS.csv\"))"
      ],
      "execution_count": null,
      "outputs": [
        {
          "output_type": "stream",
          "name": "stderr",
          "text": [
            "/usr/local/lib/python3.7/dist-packages/IPython/core/interactiveshell.py:2718: DtypeWarning: Columns (4,5) have mixed types.Specify dtype option on import or set low_memory=False.\n",
            "  interactivity=interactivity, compiler=compiler, result=result)\n"
          ]
        }
      ]
    },
    {
      "cell_type": "code",
      "metadata": {
        "colab": {
          "base_uri": "https://localhost:8080/"
        },
        "id": "d2rgjF-_d-LM",
        "outputId": "82e25b6b-e6d6-44f0-e907-c84099593a51"
      },
      "source": [
        "df_notes.shape"
      ],
      "execution_count": null,
      "outputs": [
        {
          "output_type": "execute_result",
          "data": {
            "text/plain": [
              "(2083180, 11)"
            ]
          },
          "metadata": {},
          "execution_count": 21
        }
      ]
    },
    {
      "cell_type": "code",
      "metadata": {
        "id": "gAFAFvD6eatR"
      },
      "source": [
        "# <Hidden for privacy reasons>\n",
        "#df_notes.head()"
      ],
      "execution_count": 5,
      "outputs": []
    },
    {
      "cell_type": "code",
      "metadata": {
        "colab": {
          "base_uri": "https://localhost:8080/",
          "height": 553
        },
        "id": "SLSNuQHfbnvE",
        "outputId": "8aaf5df3-c03f-4363-b2ea-458d6957141d"
      },
      "source": [
        "# There are multiple notes per hospitalization. \n",
        "# In the notes, the dates and PHI (name, doctor, location) have been converted for confidentiality. \n",
        "# There are also special characters such as \"\\n\", numbers and punctuation. \n",
        "df_notes.groupby(\"CATEGORY\").size().plot.bar()"
      ],
      "execution_count": null,
      "outputs": [
        {
          "output_type": "execute_result",
          "data": {
            "text/plain": [
              "<matplotlib.axes._subplots.AxesSubplot at 0x7f3ef0d69350>"
            ]
          },
          "metadata": {},
          "execution_count": 29
        },
        {
          "output_type": "display_data",
          "data": {
            "image/png": "[encoded data removed]",
            "text/plain": [
              "<Figure size 720x504 with 1 Axes>"
            ]
          },
          "metadata": {}
        }
      ]
    },
    {
      "cell_type": "code",
      "metadata": {
        "id": "jJ-L4vKneiAt"
      },
      "source": [
        "# <Hidden for privacy reasons>\n",
        "#df_notes.TEXT.iloc[100]"
      ],
      "execution_count": 6,
      "outputs": []
    },
    {
      "cell_type": "code",
      "metadata": {
        "id": "GI2lz3yfav73",
        "colab": {
          "base_uri": "https://localhost:8080/"
        },
        "outputId": "4521b7c2-3943-43da-89f4-5ec906b34008"
      },
      "source": [
        "# For our proof of concept, let's use only discharge summary\n",
        "df_notes_dis_sum = df_notes.loc[df_notes.CATEGORY == 'Discharge summary']\n",
        "df_notes_dis_sum.shape"
      ],
      "execution_count": null,
      "outputs": [
        {
          "output_type": "execute_result",
          "data": {
            "text/plain": [
              "(59652, 11)"
            ]
          },
          "metadata": {},
          "execution_count": 32
        }
      ]
    },
    {
      "cell_type": "code",
      "metadata": {
        "id": "coPNRb-ueOYW"
      },
      "source": [
        "#df_notes_dis_sum.groupby(['SUBJECT_ID','HADM_ID']).size().plot.bar()"
      ],
      "execution_count": null,
      "outputs": []
    },
    {
      "cell_type": "code",
      "metadata": {
        "id": "h3y4CrqJav5o",
        "colab": {
          "base_uri": "https://localhost:8080/"
        },
        "outputId": "4b1af588-9b16-41d0-a3e2-7c0b903ec0e7"
      },
      "source": [
        "# There are cases with multiple discharge summries per admission\n",
        "# use the last one\n",
        "df_notes_dis_sum_last = (df_notes_dis_sum.groupby(['SUBJECT_ID','HADM_ID']).nth(-1)).reset_index()\n",
        "df_notes_dis_sum_last.shape"
      ],
      "execution_count": null,
      "outputs": [
        {
          "output_type": "execute_result",
          "data": {
            "text/plain": [
              "(52726, 11)"
            ]
          },
          "metadata": {},
          "execution_count": 37
        }
      ]
    },
    {
      "cell_type": "code",
      "metadata": {
        "id": "LPv96YPxav3J"
      },
      "source": [
        "# <Hidden for privacy reasons>\n",
        "#df_notes_dis_sum_last.head()"
      ],
      "execution_count": 7,
      "outputs": []
    },
    {
      "cell_type": "markdown",
      "metadata": {
        "id": "lHvECw0HetP0"
      },
      "source": [
        "## Merge NOTEEVENTS and ADMISSIONS"
      ]
    },
    {
      "cell_type": "code",
      "metadata": {
        "id": "8DrVeq_ravyj"
      },
      "source": [
        "df_adm_notes = pd.merge(df_adm[['SUBJECT_ID','HADM_ID','ADMITTIME','DISCHTIME','DAYS_NEXT_ADMIT','NEXT_ADMITTIME','ADMISSION_TYPE','DEATHTIME']],\n",
        "                        df_notes_dis_sum_last[['SUBJECT_ID','HADM_ID','TEXT']], \n",
        "                        on = ['SUBJECT_ID','HADM_ID'],\n",
        "                        how = 'left')"
      ],
      "execution_count": null,
      "outputs": []
    },
    {
      "cell_type": "code",
      "metadata": {
        "colab": {
          "base_uri": "https://localhost:8080/"
        },
        "id": "-683OhJ9avwF",
        "outputId": "70081e38-3f68-4d2f-a2a1-19e6e23d2df9"
      },
      "source": [
        "len(df_adm)"
      ],
      "execution_count": null,
      "outputs": [
        {
          "output_type": "execute_result",
          "data": {
            "text/plain": [
              "45321"
            ]
          },
          "metadata": {},
          "execution_count": 40
        }
      ]
    },
    {
      "cell_type": "code",
      "metadata": {
        "colab": {
          "base_uri": "https://localhost:8080/"
        },
        "id": "kuN44Wahe5vl",
        "outputId": "1bb62f70-40ac-40f3-c360-84d2033166c6"
      },
      "source": [
        "print('Fraction of missing notes:', df_adm_notes.TEXT.isnull().sum() / len(df_adm_notes))\n",
        "print('Fraction notes with newlines:', df_adm_notes.TEXT.str.contains('\\n').sum() / len(df_adm_notes))\n",
        "print('Fraction notes with carriage returns:', df_adm_notes.TEXT.str.contains('\\r').sum() / len(df_adm_notes))"
      ],
      "execution_count": null,
      "outputs": [
        {
          "output_type": "stream",
          "name": "stdout",
          "text": [
            "Fraction of missing notes: 0.031795414929061586\n",
            "Fraction notes with newlines: 0.9682045850709384\n",
            "Fraction notes with carriage returns: 0.0\n"
          ]
        }
      ]
    },
    {
      "cell_type": "code",
      "metadata": {
        "colab": {
          "base_uri": "https://localhost:8080/"
        },
        "id": "bKiAgmabavtq",
        "outputId": "99bbbe4a-a074-429e-9e3f-b84ca919db0f"
      },
      "source": [
        "df_adm[\"ADMISSION_TYPE\"].unique()"
      ],
      "execution_count": null,
      "outputs": [
        {
          "output_type": "execute_result",
          "data": {
            "text/plain": [
              "array(['EMERGENCY', 'ELECTIVE', 'URGENT'], dtype=object)"
            ]
          },
          "metadata": {},
          "execution_count": 42
        }
      ]
    },
    {
      "cell_type": "code",
      "metadata": {
        "colab": {
          "base_uri": "https://localhost:8080/"
        },
        "id": "CMFSSwLNfByZ",
        "outputId": "551875bc-da4d-48c3-c6d1-690ed170c7ec"
      },
      "source": [
        "df_adm_notes.groupby('ADMISSION_TYPE').apply(lambda g: g.TEXT.isnull().sum())/df_adm_notes.groupby('ADMISSION_TYPE').size()"
      ],
      "execution_count": null,
      "outputs": [
        {
          "output_type": "execute_result",
          "data": {
            "text/plain": [
              "ADMISSION_TYPE\n",
              "ELECTIVE     0.048076\n",
              "EMERGENCY    0.028550\n",
              "URGENT       0.028936\n",
              "dtype: float64"
            ]
          },
          "metadata": {},
          "execution_count": 43
        }
      ]
    },
    {
      "cell_type": "markdown",
      "metadata": {
        "id": "ihMlQLCsfXNz"
      },
      "source": [
        "# Add the label"
      ]
    },
    {
      "cell_type": "code",
      "metadata": {
        "id": "Son_NwhCavrI"
      },
      "source": [
        "# We will try to predict if a patient is re-admitted in the next 30 days.\n",
        "# therefore our new label: \n",
        "#       1 - readmitted\n",
        "#       0 - not readmitted\n",
        "\n",
        "df_adm_notes['OUTPUT_LABEL'] = (df_adm_notes.DAYS_NEXT_ADMIT < 30).astype('int')"
      ],
      "execution_count": null,
      "outputs": []
    },
    {
      "cell_type": "code",
      "metadata": {
        "colab": {
          "base_uri": "https://localhost:8080/",
          "height": 445
        },
        "id": "rrOylWzNju5b",
        "outputId": "ae00b8c1-88fe-4f9c-950a-b8fdaf290dc6"
      },
      "source": [
        "# The classes are imbalanced\n",
        "df_adm_notes['OUTPUT_LABEL'].hist()"
      ],
      "execution_count": null,
      "outputs": [
        {
          "output_type": "execute_result",
          "data": {
            "text/plain": [
              "<matplotlib.axes._subplots.AxesSubplot at 0x7f3eaf10c550>"
            ]
          },
          "metadata": {},
          "execution_count": 45
        },
        {
          "output_type": "display_data",
          "data": {
            "image/png": "[encoded data removed]",
            "text/plain": [
              "<Figure size 720x504 with 1 Axes>"
            ]
          },
          "metadata": {}
        }
      ]
    },
    {
      "cell_type": "code",
      "metadata": {
        "colab": {
          "base_uri": "https://localhost:8080/"
        },
        "id": "Rgv7YeeCavot",
        "outputId": "45d7d5b8-e024-4818-d1a7-d0e57dc0b2c6"
      },
      "source": [
        "print('Number of positive samples:', (df_adm_notes.OUTPUT_LABEL == 1).sum())\n",
        "print('Number of negative samples:',  (df_adm_notes.OUTPUT_LABEL == 0).sum())\n",
        "print('Total samples:', len(df_adm_notes))"
      ],
      "execution_count": null,
      "outputs": [
        {
          "output_type": "stream",
          "name": "stdout",
          "text": [
            "Number of positive samples: 2549\n",
            "Number of negative samples: 42772\n",
            "Total samples: 45321\n"
          ]
        }
      ]
    },
    {
      "cell_type": "code",
      "metadata": {
        "id": "xe0Oq8ulavmT"
      },
      "source": [
        "# <Hidden for privacy reasons>\n",
        "# df_adm_notes.head()"
      ],
      "execution_count": 8,
      "outputs": []
    },
    {
      "cell_type": "code",
      "metadata": {
        "id": "xZ7d2i74cVV6"
      },
      "source": [
        ""
      ],
      "execution_count": null,
      "outputs": []
    },
    {
      "cell_type": "markdown",
      "metadata": {
        "id": "X_TrEg81xrRp"
      },
      "source": [
        "## Save "
      ]
    },
    {
      "cell_type": "code",
      "metadata": {
        "id": "OP_X-GMlx1wi"
      },
      "source": [
        "#df_adm_notes[[\"TEXT\",\"OUTPUT_LABEL\"]].to_csv(os.path.join(data_dir,\"preproc\",\"admiss_notes.csv\"), index=False)"
      ],
      "execution_count": null,
      "outputs": []
    },
    {
      "cell_type": "code",
      "metadata": {
        "colab": {
          "base_uri": "https://localhost:8080/"
        },
        "id": "QGDmf-osx1pP",
        "outputId": "cf6524e7-95b0-4dc0-8e6d-ee05dec96fe2"
      },
      "source": [
        "df_adm.shape"
      ],
      "execution_count": null,
      "outputs": [
        {
          "output_type": "execute_result",
          "data": {
            "text/plain": [
              "(45321, 22)"
            ]
          },
          "metadata": {},
          "execution_count": 49
        }
      ]
    },
    {
      "cell_type": "code",
      "metadata": {
        "id": "0HD3Z1E6zMyK"
      },
      "source": [
        "# Modify the original dataframe by dealing with the missing text, newlines and carriage returns\n",
        "def preprocess_text(df):\n",
        "    df.TEXT = df.TEXT.fillna(' ')\n",
        "    df.TEXT =df.TEXT.str.replace('\\n',' ')\n",
        "    df.TEXT =df.TEXT.str.replace('\\r',' ')\n",
        "    return df"
      ],
      "execution_count": null,
      "outputs": []
    },
    {
      "cell_type": "code",
      "metadata": {
        "id": "1Xr79Oab6lDr"
      },
      "source": [
        "df_adm_notes = preprocess_text(df_adm_notes)"
      ],
      "execution_count": null,
      "outputs": []
    },
    {
      "cell_type": "code",
      "metadata": {
        "id": "F5nPpnWVzMv5"
      },
      "source": [
        "df_adm_notes[[\"TEXT\",\"OUTPUT_LABEL\"]].to_csv(os.path.join(data_dir,\"preproc\",\"admiss_notes.csv\"), index=False)"
      ],
      "execution_count": null,
      "outputs": []
    },
    {
      "cell_type": "code",
      "metadata": {
        "id": "uZTK_zqezMta"
      },
      "source": [
        ""
      ],
      "execution_count": null,
      "outputs": []
    },
    {
      "cell_type": "code",
      "metadata": {
        "id": "nrmHZ15ErSuB"
      },
      "source": [
        ""
      ],
      "execution_count": null,
      "outputs": []
    }
  ]
}